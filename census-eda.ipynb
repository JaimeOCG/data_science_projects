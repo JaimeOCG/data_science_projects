{
 "cells": [
  {
   "cell_type": "markdown",
   "metadata": {},
   "source": [
    "# EDA + LOGISTIC REGRESSION"
   ]
  },
  {
   "cell_type": "markdown",
   "metadata": {},
   "source": [
    "<p> We are given two datasets: census.csv and census_test.csv. We'll have two determine applyin EDA if census_test is either a random sample from census.csv or if it's manipulated. Once we've guessed that, we'll apply a logistic regression and measure it with different statistics. </p>"
   ]
  },
  {
   "cell_type": "markdown",
   "metadata": {},
   "source": [
    "# Exercise 1: EDA analysis"
   ]
  },
  {
   "cell_type": "code",
   "execution_count": 1,
   "metadata": {},
   "outputs": [],
   "source": [
    "#First, we import the libraries we need\n",
    "\n",
    "%matplotlib inline\n",
    "\n",
    "import pandas as pd\n",
    "import numpy as np\n",
    "import seaborn as sns"
   ]
  },
  {
   "cell_type": "markdown",
   "metadata": {},
   "source": [
    "We are given two datasets: census and census_test. Applying EDA, we have to guess if census_test was randomly selected from census. If not, it may be biased. \n",
    "\n",
    "First of all, well import census dataset and give a quick view to the variables it contains"
   ]
  },
  {
   "cell_type": "code",
   "execution_count": 2,
   "metadata": {},
   "outputs": [
    {
     "data": {
      "text/html": [
       "<div>\n",
       "<style scoped>\n",
       "    .dataframe tbody tr th:only-of-type {\n",
       "        vertical-align: middle;\n",
       "    }\n",
       "\n",
       "    .dataframe tbody tr th {\n",
       "        vertical-align: top;\n",
       "    }\n",
       "\n",
       "    .dataframe thead th {\n",
       "        text-align: right;\n",
       "    }\n",
       "</style>\n",
       "<table border=\"1\" class=\"dataframe\">\n",
       "  <thead>\n",
       "    <tr style=\"text-align: right;\">\n",
       "      <th></th>\n",
       "      <th>age</th>\n",
       "      <th>workclass</th>\n",
       "      <th>education</th>\n",
       "      <th>education_num</th>\n",
       "      <th>marital_status</th>\n",
       "      <th>occupation</th>\n",
       "      <th>relationship</th>\n",
       "      <th>race</th>\n",
       "      <th>gender</th>\n",
       "      <th>hours_per_week</th>\n",
       "      <th>native_country</th>\n",
       "      <th>greater_than_50k</th>\n",
       "    </tr>\n",
       "  </thead>\n",
       "  <tbody>\n",
       "    <tr>\n",
       "      <th>0</th>\n",
       "      <td>39</td>\n",
       "      <td>State-gov</td>\n",
       "      <td>Bachelors</td>\n",
       "      <td>13</td>\n",
       "      <td>Never-married</td>\n",
       "      <td>Adm-clerical</td>\n",
       "      <td>Not-in-family</td>\n",
       "      <td>White</td>\n",
       "      <td>Male</td>\n",
       "      <td>40</td>\n",
       "      <td>United-States</td>\n",
       "      <td>0</td>\n",
       "    </tr>\n",
       "    <tr>\n",
       "      <th>1</th>\n",
       "      <td>50</td>\n",
       "      <td>Self-emp-not-inc</td>\n",
       "      <td>Bachelors</td>\n",
       "      <td>13</td>\n",
       "      <td>Married-civ-spouse</td>\n",
       "      <td>Exec-managerial</td>\n",
       "      <td>Husband</td>\n",
       "      <td>White</td>\n",
       "      <td>Male</td>\n",
       "      <td>13</td>\n",
       "      <td>United-States</td>\n",
       "      <td>0</td>\n",
       "    </tr>\n",
       "    <tr>\n",
       "      <th>2</th>\n",
       "      <td>38</td>\n",
       "      <td>Private</td>\n",
       "      <td>HS-grad</td>\n",
       "      <td>9</td>\n",
       "      <td>Divorced</td>\n",
       "      <td>Handlers-cleaners</td>\n",
       "      <td>Not-in-family</td>\n",
       "      <td>White</td>\n",
       "      <td>Male</td>\n",
       "      <td>40</td>\n",
       "      <td>United-States</td>\n",
       "      <td>0</td>\n",
       "    </tr>\n",
       "    <tr>\n",
       "      <th>3</th>\n",
       "      <td>53</td>\n",
       "      <td>Private</td>\n",
       "      <td>11th</td>\n",
       "      <td>7</td>\n",
       "      <td>Married-civ-spouse</td>\n",
       "      <td>Handlers-cleaners</td>\n",
       "      <td>Husband</td>\n",
       "      <td>Black</td>\n",
       "      <td>Male</td>\n",
       "      <td>40</td>\n",
       "      <td>United-States</td>\n",
       "      <td>0</td>\n",
       "    </tr>\n",
       "    <tr>\n",
       "      <th>4</th>\n",
       "      <td>28</td>\n",
       "      <td>Private</td>\n",
       "      <td>Bachelors</td>\n",
       "      <td>13</td>\n",
       "      <td>Married-civ-spouse</td>\n",
       "      <td>Prof-specialty</td>\n",
       "      <td>Wife</td>\n",
       "      <td>Black</td>\n",
       "      <td>Female</td>\n",
       "      <td>40</td>\n",
       "      <td>Cuba</td>\n",
       "      <td>0</td>\n",
       "    </tr>\n",
       "    <tr>\n",
       "      <th>5</th>\n",
       "      <td>37</td>\n",
       "      <td>Private</td>\n",
       "      <td>Masters</td>\n",
       "      <td>14</td>\n",
       "      <td>Married-civ-spouse</td>\n",
       "      <td>Exec-managerial</td>\n",
       "      <td>Wife</td>\n",
       "      <td>White</td>\n",
       "      <td>Female</td>\n",
       "      <td>40</td>\n",
       "      <td>United-States</td>\n",
       "      <td>0</td>\n",
       "    </tr>\n",
       "    <tr>\n",
       "      <th>6</th>\n",
       "      <td>49</td>\n",
       "      <td>Private</td>\n",
       "      <td>9th</td>\n",
       "      <td>5</td>\n",
       "      <td>Married-spouse-absent</td>\n",
       "      <td>Other-service</td>\n",
       "      <td>Not-in-family</td>\n",
       "      <td>Black</td>\n",
       "      <td>Female</td>\n",
       "      <td>16</td>\n",
       "      <td>Jamaica</td>\n",
       "      <td>0</td>\n",
       "    </tr>\n",
       "    <tr>\n",
       "      <th>7</th>\n",
       "      <td>52</td>\n",
       "      <td>Self-emp-not-inc</td>\n",
       "      <td>HS-grad</td>\n",
       "      <td>9</td>\n",
       "      <td>Married-civ-spouse</td>\n",
       "      <td>Exec-managerial</td>\n",
       "      <td>Husband</td>\n",
       "      <td>White</td>\n",
       "      <td>Male</td>\n",
       "      <td>45</td>\n",
       "      <td>United-States</td>\n",
       "      <td>1</td>\n",
       "    </tr>\n",
       "    <tr>\n",
       "      <th>8</th>\n",
       "      <td>31</td>\n",
       "      <td>Private</td>\n",
       "      <td>Masters</td>\n",
       "      <td>14</td>\n",
       "      <td>Never-married</td>\n",
       "      <td>Prof-specialty</td>\n",
       "      <td>Not-in-family</td>\n",
       "      <td>White</td>\n",
       "      <td>Female</td>\n",
       "      <td>50</td>\n",
       "      <td>United-States</td>\n",
       "      <td>1</td>\n",
       "    </tr>\n",
       "    <tr>\n",
       "      <th>9</th>\n",
       "      <td>42</td>\n",
       "      <td>Private</td>\n",
       "      <td>Bachelors</td>\n",
       "      <td>13</td>\n",
       "      <td>Married-civ-spouse</td>\n",
       "      <td>Exec-managerial</td>\n",
       "      <td>Husband</td>\n",
       "      <td>White</td>\n",
       "      <td>Male</td>\n",
       "      <td>40</td>\n",
       "      <td>United-States</td>\n",
       "      <td>1</td>\n",
       "    </tr>\n",
       "  </tbody>\n",
       "</table>\n",
       "</div>"
      ],
      "text/plain": [
       "   age          workclass   education  education_num          marital_status  \\\n",
       "0   39          State-gov   Bachelors             13           Never-married   \n",
       "1   50   Self-emp-not-inc   Bachelors             13      Married-civ-spouse   \n",
       "2   38            Private     HS-grad              9                Divorced   \n",
       "3   53            Private        11th              7      Married-civ-spouse   \n",
       "4   28            Private   Bachelors             13      Married-civ-spouse   \n",
       "5   37            Private     Masters             14      Married-civ-spouse   \n",
       "6   49            Private         9th              5   Married-spouse-absent   \n",
       "7   52   Self-emp-not-inc     HS-grad              9      Married-civ-spouse   \n",
       "8   31            Private     Masters             14           Never-married   \n",
       "9   42            Private   Bachelors             13      Married-civ-spouse   \n",
       "\n",
       "           occupation    relationship    race   gender  hours_per_week  \\\n",
       "0        Adm-clerical   Not-in-family   White     Male              40   \n",
       "1     Exec-managerial         Husband   White     Male              13   \n",
       "2   Handlers-cleaners   Not-in-family   White     Male              40   \n",
       "3   Handlers-cleaners         Husband   Black     Male              40   \n",
       "4      Prof-specialty            Wife   Black   Female              40   \n",
       "5     Exec-managerial            Wife   White   Female              40   \n",
       "6       Other-service   Not-in-family   Black   Female              16   \n",
       "7     Exec-managerial         Husband   White     Male              45   \n",
       "8      Prof-specialty   Not-in-family   White   Female              50   \n",
       "9     Exec-managerial         Husband   White     Male              40   \n",
       "\n",
       "   native_country  greater_than_50k  \n",
       "0   United-States                 0  \n",
       "1   United-States                 0  \n",
       "2   United-States                 0  \n",
       "3   United-States                 0  \n",
       "4            Cuba                 0  \n",
       "5   United-States                 0  \n",
       "6         Jamaica                 0  \n",
       "7   United-States                 1  \n",
       "8   United-States                 1  \n",
       "9   United-States                 1  "
      ]
     },
     "execution_count": 2,
     "metadata": {},
     "output_type": "execute_result"
    }
   ],
   "source": [
    "df_census = pd.read_csv(\"../input/census.csv\")\n",
    "df_census_test = pd.read_csv(\"../input/census_test.csv\")\n",
    "df_census.head(10)"
   ]
  },
  {
   "cell_type": "markdown",
   "metadata": {},
   "source": [
    "We'll check dtypes that were automatically guessed by pandas library"
   ]
  },
  {
   "cell_type": "code",
   "execution_count": 3,
   "metadata": {},
   "outputs": [
    {
     "data": {
      "text/plain": [
       "age                  int64\n",
       "workclass           object\n",
       "education           object\n",
       "education_num        int64\n",
       "marital_status      object\n",
       "occupation          object\n",
       "relationship        object\n",
       "race                object\n",
       "gender              object\n",
       "hours_per_week       int64\n",
       "native_country      object\n",
       "greater_than_50k     int64\n",
       "dtype: object"
      ]
     },
     "execution_count": 3,
     "metadata": {},
     "output_type": "execute_result"
    }
   ],
   "source": [
    "df_census.dtypes"
   ]
  },
  {
   "cell_type": "code",
   "execution_count": 4,
   "metadata": {},
   "outputs": [
    {
     "data": {
      "text/plain": [
       "array([0, 1])"
      ]
     },
     "execution_count": 4,
     "metadata": {},
     "output_type": "execute_result"
    }
   ],
   "source": [
    "df_census.greater_than_50k.unique()"
   ]
  },
  {
   "cell_type": "markdown",
   "metadata": {},
   "source": [
    "From the previous types, we see that:\n",
    "    <ul>\n",
    "    <li>age: discrete variable.</li> \n",
    "    <li>workclass: numeric variable.</li>\n",
    "    <li>education: nominal variable.</li>\n",
    "    <li>education_num: ordinal variable.</li>\n",
    "    <li>marital_status: nominal variable</li>\n",
    "    <li>occupation: nominal variable.</li>\n",
    "    <li>relationship: nominal variable</li>\n",
    "    <li>race: nominal variable.</li>\n",
    "    <li>gender: nominal variable</li>\n",
    "    <li>hours_per_week: discrete variable.</li>\n",
    "    <li>native_country: nominal variable.</li>\n",
    "    <li>greater_than_50k: binary data.</li>\n",
    "    </ul>"
   ]
  },
  {
   "cell_type": "markdown",
   "metadata": {},
   "source": [
    "First of all, we are going to clean all trailing and leading whitespaces"
   ]
  },
  {
   "cell_type": "code",
   "execution_count": 5,
   "metadata": {},
   "outputs": [],
   "source": [
    "#For df_census\n",
    "df_census_selected = df_census.select_dtypes(include = [\"object\"])\n",
    "df_census[df_census_selected.columns] = df_census_selected.apply(lambda x: x.str.strip())\n",
    "\n",
    "#For df_cesus_test\n",
    "\n",
    "df_census_selected = df_census_test.select_dtypes(include = [\"object\"])\n",
    "df_census_test[df_census_selected.columns] = df_census_selected.apply(lambda x: x.str.strip())"
   ]
  },
  {
   "cell_type": "markdown",
   "metadata": {},
   "source": [
    "Since there's categorical data, we'll take advantage of the \"category\" dtype pd.Series"
   ]
  },
  {
   "cell_type": "code",
   "execution_count": 6,
   "metadata": {
    "scrolled": false
   },
   "outputs": [],
   "source": [
    "df_census = df_census.astype(\n",
    "{\n",
    "        \"workclass\" : \"category\", \n",
    "        \"education\" : \"category\",\n",
    "        \"marital_status\" : \"category\",\n",
    "        \"occupation\" : \"category\",\n",
    "        \"relationship\" : \"category\",\n",
    "        \"race\" : \"category\",\n",
    "        \"native_country\" : \"category\"\n",
    "}\n",
    ")\n",
    "\n",
    "df_census_test = df_census_test.astype(\n",
    "{\n",
    "        \"workclass\" : \"category\", \n",
    "        \"education\" : \"category\",\n",
    "        \"marital_status\" : \"category\",\n",
    "        \"occupation\" : \"category\",\n",
    "        \"relationship\" : \"category\",\n",
    "        \"race\" : \"category\",\n",
    "        \"native_country\" : \"category\"\n",
    "}\n",
    ")"
   ]
  },
  {
   "cell_type": "markdown",
   "metadata": {},
   "source": [
    "<p> In order to understand the dataset, we'll check out the categories in each variable </p>"
   ]
  },
  {
   "cell_type": "code",
   "execution_count": 7,
   "metadata": {
    "scrolled": false
   },
   "outputs": [
    {
     "name": "stdout",
     "output_type": "stream",
     "text": [
      "Catergories for workclass are:\n",
      "  - Federal-gov\n",
      "  - Local-gov\n",
      "  - Never-worked\n",
      "  - Private\n",
      "  - Self-emp-inc\n",
      "  - Self-emp-not-inc\n",
      "  - State-gov\n",
      "  - Without-pay\n",
      "Catergories for education are:\n",
      "  - 10th\n",
      "  - 11th\n",
      "  - 12th\n",
      "  - 1st-4th\n",
      "  - 5th-6th\n",
      "  - 7th-8th\n",
      "  - 9th\n",
      "  - Assoc-acdm\n",
      "  - Assoc-voc\n",
      "  - Bachelors\n",
      "  - Doctorate\n",
      "  - HS-grad\n",
      "  - Masters\n",
      "  - Preschool\n",
      "  - Prof-school\n",
      "  - Some-college\n",
      "Catergories for marital_status are:\n",
      "  - Divorced\n",
      "  - Married-AF-spouse\n",
      "  - Married-civ-spouse\n",
      "  - Married-spouse-absent\n",
      "  - Never-married\n",
      "  - Separated\n",
      "  - Widowed\n",
      "Catergories for occupation are:\n",
      "  - Adm-clerical\n",
      "  - Armed-Forces\n",
      "  - Craft-repair\n",
      "  - Exec-managerial\n",
      "  - Farming-fishing\n",
      "  - Handlers-cleaners\n",
      "  - Machine-op-inspct\n",
      "  - Other-service\n",
      "  - Priv-house-serv\n",
      "  - Prof-specialty\n",
      "  - Protective-serv\n",
      "  - Sales\n",
      "  - Tech-support\n",
      "  - Transport-moving\n",
      "Catergories for relationship are:\n",
      "  - Husband\n",
      "  - Not-in-family\n",
      "  - Other-relative\n",
      "  - Own-child\n",
      "  - Unmarried\n",
      "  - Wife\n",
      "Catergories for race are:\n",
      "  - Amer-Indian-Eskimo\n",
      "  - Asian-Pac-Islander\n",
      "  - Black\n",
      "  - Other\n",
      "  - White\n",
      "Catergories for native_country are:\n",
      "  - Cambodia\n",
      "  - Canada\n",
      "  - China\n",
      "  - Columbia\n",
      "  - Cuba\n",
      "  - Dominican-Republic\n",
      "  - Ecuador\n",
      "  - El-Salvador\n",
      "  - England\n",
      "  - France\n",
      "  - Germany\n",
      "  - Greece\n",
      "  - Guatemala\n",
      "  - Haiti\n",
      "  - Honduras\n",
      "  - Hong\n",
      "  - Hungary\n",
      "  - India\n",
      "  - Iran\n",
      "  - Ireland\n",
      "  - Italy\n",
      "  - Jamaica\n",
      "  - Japan\n",
      "  - Laos\n",
      "  - Mexico\n",
      "  - Nicaragua\n",
      "  - Outlying-US(Guam-USVI-etc)\n",
      "  - Peru\n",
      "  - Philippines\n",
      "  - Poland\n",
      "  - Portugal\n",
      "  - Puerto-Rico\n",
      "  - Scotland\n",
      "  - South\n",
      "  - Taiwan\n",
      "  - Thailand\n",
      "  - Trinadad&Tobago\n",
      "  - United-States\n",
      "  - Vietnam\n",
      "  - Yugoslavia\n"
     ]
    }
   ],
   "source": [
    "for col_name in df_census.columns:\n",
    "    if(isinstance(df_census[col_name].dtype, pd.core.dtypes.dtypes.CategoricalDtype)):\n",
    "        print(\"Catergories for {} are:\".format(col_name))\n",
    "        for category in list(df_census[col_name].cat.categories):\n",
    "            print(\"  -\", category) "
   ]
  },
  {
   "cell_type": "markdown",
   "metadata": {},
   "source": [
    "Next, we are going to compare statistics for numerical data."
   ]
  },
  {
   "cell_type": "code",
   "execution_count": 8,
   "metadata": {
    "scrolled": true
   },
   "outputs": [
    {
     "data": {
      "text/html": [
       "<div>\n",
       "<style scoped>\n",
       "    .dataframe tbody tr th:only-of-type {\n",
       "        vertical-align: middle;\n",
       "    }\n",
       "\n",
       "    .dataframe tbody tr th {\n",
       "        vertical-align: top;\n",
       "    }\n",
       "\n",
       "    .dataframe thead th {\n",
       "        text-align: right;\n",
       "    }\n",
       "</style>\n",
       "<table border=\"1\" class=\"dataframe\">\n",
       "  <thead>\n",
       "    <tr style=\"text-align: right;\">\n",
       "      <th></th>\n",
       "      <th>age</th>\n",
       "      <th>hours_per_week</th>\n",
       "      <th>age</th>\n",
       "      <th>hours_per_week</th>\n",
       "    </tr>\n",
       "  </thead>\n",
       "  <tbody>\n",
       "    <tr>\n",
       "      <th>count</th>\n",
       "      <td>32560.000000</td>\n",
       "      <td>32560.000000</td>\n",
       "      <td>16281.000000</td>\n",
       "      <td>16281.000000</td>\n",
       "    </tr>\n",
       "    <tr>\n",
       "      <th>mean</th>\n",
       "      <td>38.581849</td>\n",
       "      <td>40.437469</td>\n",
       "      <td>38.767459</td>\n",
       "      <td>40.392236</td>\n",
       "    </tr>\n",
       "    <tr>\n",
       "      <th>std</th>\n",
       "      <td>13.640593</td>\n",
       "      <td>12.347618</td>\n",
       "      <td>13.849187</td>\n",
       "      <td>12.479332</td>\n",
       "    </tr>\n",
       "    <tr>\n",
       "      <th>min</th>\n",
       "      <td>17.000000</td>\n",
       "      <td>1.000000</td>\n",
       "      <td>17.000000</td>\n",
       "      <td>1.000000</td>\n",
       "    </tr>\n",
       "    <tr>\n",
       "      <th>25%</th>\n",
       "      <td>28.000000</td>\n",
       "      <td>40.000000</td>\n",
       "      <td>28.000000</td>\n",
       "      <td>40.000000</td>\n",
       "    </tr>\n",
       "    <tr>\n",
       "      <th>50%</th>\n",
       "      <td>37.000000</td>\n",
       "      <td>40.000000</td>\n",
       "      <td>37.000000</td>\n",
       "      <td>40.000000</td>\n",
       "    </tr>\n",
       "    <tr>\n",
       "      <th>75%</th>\n",
       "      <td>48.000000</td>\n",
       "      <td>45.000000</td>\n",
       "      <td>48.000000</td>\n",
       "      <td>45.000000</td>\n",
       "    </tr>\n",
       "    <tr>\n",
       "      <th>max</th>\n",
       "      <td>90.000000</td>\n",
       "      <td>99.000000</td>\n",
       "      <td>90.000000</td>\n",
       "      <td>99.000000</td>\n",
       "    </tr>\n",
       "  </tbody>\n",
       "</table>\n",
       "</div>"
      ],
      "text/plain": [
       "                age  hours_per_week           age  hours_per_week\n",
       "count  32560.000000    32560.000000  16281.000000    16281.000000\n",
       "mean      38.581849       40.437469     38.767459       40.392236\n",
       "std       13.640593       12.347618     13.849187       12.479332\n",
       "min       17.000000        1.000000     17.000000        1.000000\n",
       "25%       28.000000       40.000000     28.000000       40.000000\n",
       "50%       37.000000       40.000000     37.000000       40.000000\n",
       "75%       48.000000       45.000000     48.000000       45.000000\n",
       "max       90.000000       99.000000     90.000000       99.000000"
      ]
     },
     "execution_count": 8,
     "metadata": {},
     "output_type": "execute_result"
    }
   ],
   "source": [
    "pd.concat([df_census[[\"age\", \"hours_per_week\"]].describe(), df_census_test[[\"age\", \"hours_per_week\"]].describe() ], axis = 1)"
   ]
  },
  {
   "cell_type": "code",
   "execution_count": 9,
   "metadata": {
    "scrolled": false
   },
   "outputs": [
    {
     "data": {
      "text/plain": [
       "<matplotlib.axes._subplots.AxesSubplot at 0x7fac560bacf8>"
      ]
     },
     "execution_count": 9,
     "metadata": {},
     "output_type": "execute_result"
    },
    {
     "data": {
      "image/png": "[encoded data removed]",
      "text/plain": [
       "<Figure size 432x288 with 1 Axes>"
      ]
     },
     "metadata": {
      "needs_background": "light"
     },
     "output_type": "display_data"
    }
   ],
   "source": [
    "sns.distplot(df_census[\"age\"])"
   ]
  },
  {
   "cell_type": "code",
   "execution_count": 10,
   "metadata": {
    "scrolled": true
   },
   "outputs": [
    {
     "name": "stdout",
     "output_type": "stream",
     "text": [
      "H0 hypothesis test: NormaltestResult(statistic=1525.8076419232084, pvalue=0.0)\n"
     ]
    }
   ],
   "source": [
    "import scipy.stats as stats\n",
    "print(\"H0 hypothesis test:\",stats.normaltest(df_census[\"age\"]))"
   ]
  },
  {
   "cell_type": "markdown",
   "metadata": {},
   "source": [
    "The former distributionn is not normal"
   ]
  },
  {
   "cell_type": "code",
   "execution_count": 11,
   "metadata": {},
   "outputs": [
    {
     "data": {
      "text/plain": [
       "<matplotlib.axes._subplots.AxesSubplot at 0x7fac4827c048>"
      ]
     },
     "execution_count": 11,
     "metadata": {},
     "output_type": "execute_result"
    },
    {
     "data": {
      "image/png": "[encoded data removed]",
      "text/plain": [
       "<Figure size 432x288 with 1 Axes>"
      ]
     },
     "metadata": {
      "needs_background": "light"
     },
     "output_type": "display_data"
    }
   ],
   "source": [
    "sns.distplot(df_census_test[\"age\"])"
   ]
  },
  {
   "cell_type": "code",
   "execution_count": 12,
   "metadata": {
    "scrolled": true
   },
   "outputs": [
    {
     "data": {
      "text/plain": [
       "<matplotlib.axes._subplots.AxesSubplot at 0x7fac4723ba90>"
      ]
     },
     "execution_count": 12,
     "metadata": {},
     "output_type": "execute_result"
    },
    {
     "data": {
      "image/png": "[encoded data removed]",
      "text/plain": [
       "<Figure size 432x288 with 1 Axes>"
      ]
     },
     "metadata": {
      "needs_background": "light"
     },
     "output_type": "display_data"
    }
   ],
   "source": [
    "sns.distplot(df_census[\"hours_per_week\"])"
   ]
  },
  {
   "cell_type": "code",
   "execution_count": 13,
   "metadata": {},
   "outputs": [
    {
     "name": "stdout",
     "output_type": "stream",
     "text": [
      "H0 hypothesis test: NormaltestResult(statistic=2508.690253172476, pvalue=0.0)\n"
     ]
    }
   ],
   "source": [
    "print(\"H0 hypothesis test:\",stats.normaltest(df_census[\"hours_per_week\"]))"
   ]
  },
  {
   "cell_type": "markdown",
   "metadata": {},
   "source": [
    "The former distribution isn't normal too"
   ]
  },
  {
   "cell_type": "code",
   "execution_count": 14,
   "metadata": {},
   "outputs": [
    {
     "data": {
      "text/plain": [
       "<matplotlib.axes._subplots.AxesSubplot at 0x7fac47189b70>"
      ]
     },
     "execution_count": 14,
     "metadata": {},
     "output_type": "execute_result"
    },
    {
     "data": {
      "image/png": "[encoded data removed]",
      "text/plain": [
       "<Figure size 432x288 with 1 Axes>"
      ]
     },
     "metadata": {
      "needs_background": "light"
     },
     "output_type": "display_data"
    }
   ],
   "source": [
    "sns.distplot(df_census_test[\"hours_per_week\"])"
   ]
  },
  {
   "cell_type": "markdown",
   "metadata": {},
   "source": [
    "From the previous comparison, we see that there isn't such a big difference between census and census_test. From this perspective, the census_test may seem randomly selected. Let's see what happens with categorical data.\n",
    "\n",
    "To do that, we are going to calculate proportions for each value\n"
   ]
  },
  {
   "cell_type": "markdown",
   "metadata": {},
   "source": [
    "<b>For greater_than_50k </b>"
   ]
  },
  {
   "cell_type": "code",
   "execution_count": 15,
   "metadata": {
    "scrolled": false
   },
   "outputs": [
    {
     "name": "stdout",
     "output_type": "stream",
     "text": [
      "Proportions of 1s for census:  0.24081695331695332\n",
      "Proportions of 1s for census test:  0.23622627602727106\n"
     ]
    }
   ],
   "source": [
    "print(\"Proportions of 1s for census: \", df_census.greater_than_50k.mean())\n",
    "print(\"Proportions of 1s for census test: \", df_census_test.greater_than_50k.mean())"
   ]
  },
  {
   "cell_type": "markdown",
   "metadata": {},
   "source": [
    "<b>For workclass </b>"
   ]
  },
  {
   "cell_type": "code",
   "execution_count": 16,
   "metadata": {},
   "outputs": [
    {
     "data": {
      "text/html": [
       "<div>\n",
       "<style scoped>\n",
       "    .dataframe tbody tr th:only-of-type {\n",
       "        vertical-align: middle;\n",
       "    }\n",
       "\n",
       "    .dataframe tbody tr th {\n",
       "        vertical-align: top;\n",
       "    }\n",
       "\n",
       "    .dataframe thead th {\n",
       "        text-align: right;\n",
       "    }\n",
       "</style>\n",
       "<table border=\"1\" class=\"dataframe\">\n",
       "  <thead>\n",
       "    <tr style=\"text-align: right;\">\n",
       "      <th></th>\n",
       "      <th>census</th>\n",
       "      <th>census_test</th>\n",
       "    </tr>\n",
       "  </thead>\n",
       "  <tbody>\n",
       "    <tr>\n",
       "      <th>Private</th>\n",
       "      <td>0.738673</td>\n",
       "      <td>0.731819</td>\n",
       "    </tr>\n",
       "    <tr>\n",
       "      <th>Self-emp-not-inc</th>\n",
       "      <td>0.082704</td>\n",
       "      <td>0.086238</td>\n",
       "    </tr>\n",
       "    <tr>\n",
       "      <th>Local-gov</th>\n",
       "      <td>0.068123</td>\n",
       "      <td>0.068090</td>\n",
       "    </tr>\n",
       "    <tr>\n",
       "      <th>State-gov</th>\n",
       "      <td>0.042247</td>\n",
       "      <td>0.044588</td>\n",
       "    </tr>\n",
       "    <tr>\n",
       "      <th>Self-emp-inc</th>\n",
       "      <td>0.036323</td>\n",
       "      <td>0.037799</td>\n",
       "    </tr>\n",
       "    <tr>\n",
       "      <th>Federal-gov</th>\n",
       "      <td>0.031246</td>\n",
       "      <td>0.030813</td>\n",
       "    </tr>\n",
       "    <tr>\n",
       "      <th>Without-pay</th>\n",
       "      <td>0.000456</td>\n",
       "      <td>0.000457</td>\n",
       "    </tr>\n",
       "    <tr>\n",
       "      <th>Never-worked</th>\n",
       "      <td>0.000228</td>\n",
       "      <td>0.000196</td>\n",
       "    </tr>\n",
       "  </tbody>\n",
       "</table>\n",
       "</div>"
      ],
      "text/plain": [
       "                    census  census_test\n",
       "Private           0.738673     0.731819\n",
       "Self-emp-not-inc  0.082704     0.086238\n",
       "Local-gov         0.068123     0.068090\n",
       "State-gov         0.042247     0.044588\n",
       "Self-emp-inc      0.036323     0.037799\n",
       "Federal-gov       0.031246     0.030813\n",
       "Without-pay       0.000456     0.000457\n",
       "Never-worked      0.000228     0.000196"
      ]
     },
     "execution_count": 16,
     "metadata": {},
     "output_type": "execute_result"
    }
   ],
   "source": [
    "df_1 = pd.DataFrame({ \"census\": (df_census.workclass.value_counts()/df_census.workclass.count())})\n",
    "df_2 = pd.DataFrame({ \"census\": (df_census_test.workclass.value_counts()/df_census_test.workclass.count())})\n",
    "df_2 =df_2.rename(columns = {\"census\" : \"census_test\"})\n",
    "pd.concat([df_1, df_2], axis = 1)"
   ]
  },
  {
   "cell_type": "markdown",
   "metadata": {},
   "source": [
    "So far, so good, but we still have more work to do. We will group variables in order to\n",
    "analise the proportion of paychecks greater than 50K"
   ]
  },
  {
   "cell_type": "code",
   "execution_count": 17,
   "metadata": {
    "scrolled": true
   },
   "outputs": [
    {
     "data": {
      "text/html": [
       "<div>\n",
       "<style scoped>\n",
       "    .dataframe tbody tr th:only-of-type {\n",
       "        vertical-align: middle;\n",
       "    }\n",
       "\n",
       "    .dataframe tbody tr th {\n",
       "        vertical-align: top;\n",
       "    }\n",
       "\n",
       "    .dataframe thead th {\n",
       "        text-align: right;\n",
       "    }\n",
       "</style>\n",
       "<table border=\"1\" class=\"dataframe\">\n",
       "  <thead>\n",
       "    <tr style=\"text-align: right;\">\n",
       "      <th></th>\n",
       "      <th>avg_over_50k</th>\n",
       "      <th>avg_over_50k_test</th>\n",
       "    </tr>\n",
       "    <tr>\n",
       "      <th>workclass</th>\n",
       "      <th></th>\n",
       "      <th></th>\n",
       "    </tr>\n",
       "  </thead>\n",
       "  <tbody>\n",
       "    <tr>\n",
       "      <th>Federal-gov</th>\n",
       "      <td>0.386458</td>\n",
       "      <td>0.402542</td>\n",
       "    </tr>\n",
       "    <tr>\n",
       "      <th>Local-gov</th>\n",
       "      <td>0.294792</td>\n",
       "      <td>0.297220</td>\n",
       "    </tr>\n",
       "    <tr>\n",
       "      <th>Never-worked</th>\n",
       "      <td>0.000000</td>\n",
       "      <td>0.000000</td>\n",
       "    </tr>\n",
       "    <tr>\n",
       "      <th>Private</th>\n",
       "      <td>0.218683</td>\n",
       "      <td>0.216236</td>\n",
       "    </tr>\n",
       "    <tr>\n",
       "      <th>Self-emp-inc</th>\n",
       "      <td>0.557348</td>\n",
       "      <td>0.545769</td>\n",
       "    </tr>\n",
       "    <tr>\n",
       "      <th>Self-emp-not-inc</th>\n",
       "      <td>0.284927</td>\n",
       "      <td>0.267222</td>\n",
       "    </tr>\n",
       "    <tr>\n",
       "      <th>State-gov</th>\n",
       "      <td>0.271957</td>\n",
       "      <td>0.259151</td>\n",
       "    </tr>\n",
       "    <tr>\n",
       "      <th>Without-pay</th>\n",
       "      <td>0.000000</td>\n",
       "      <td>0.285714</td>\n",
       "    </tr>\n",
       "  </tbody>\n",
       "</table>\n",
       "</div>"
      ],
      "text/plain": [
       "                  avg_over_50k  avg_over_50k_test\n",
       "workclass                                        \n",
       "Federal-gov           0.386458           0.402542\n",
       "Local-gov             0.294792           0.297220\n",
       "Never-worked          0.000000           0.000000\n",
       "Private               0.218683           0.216236\n",
       "Self-emp-inc          0.557348           0.545769\n",
       "Self-emp-not-inc      0.284927           0.267222\n",
       "State-gov             0.271957           0.259151\n",
       "Without-pay           0.000000           0.285714"
      ]
     },
     "execution_count": 17,
     "metadata": {},
     "output_type": "execute_result"
    }
   ],
   "source": [
    "df_census_mean = pd.DataFrame({\"avg_over_50k\" : df_census[[\"workclass\",  \"greater_than_50k\"]].groupby([\"workclass\"])[\"greater_than_50k\"].mean()})\n",
    "df_census_mean_test = pd.DataFrame({\"avg_over_50k_test\" : df_census_test[[\"workclass\",  \"greater_than_50k\"]].groupby([\"workclass\"])[\"greater_than_50k\"].mean()})\n",
    "pd.concat([df_census_mean, df_census_mean_test], axis = 1)"
   ]
  },
  {
   "cell_type": "markdown",
   "metadata": {},
   "source": [
    "We have 0 vs 28% of people in our test dataset that have a income greater than 50K without being paid!!! <b> How's that possible :S !</b>\n",
    "\n",
    "Either it's manually modified or there's is an error in the dataset. Anyway, we should check the number of observations, because the fewer the number of observations, the greater the margin of error."
   ]
  },
  {
   "cell_type": "code",
   "execution_count": 18,
   "metadata": {
    "scrolled": true
   },
   "outputs": [
    {
     "data": {
      "text/plain": [
       "workclass         greater_than_50k\n",
       "Federal-gov       0                    282\n",
       "                  1                    190\n",
       "Local-gov         0                    733\n",
       "                  1                    310\n",
       "Never-worked      0                      3\n",
       "Private           0                   8786\n",
       "                  1                   2424\n",
       "Self-emp-inc      1                    316\n",
       "                  0                    263\n",
       "Self-emp-not-inc  0                    968\n",
       "                  1                    353\n",
       "State-gov         0                    506\n",
       "                  1                    177\n",
       "Without-pay       0                      5\n",
       "                  1                      2\n",
       "Name: greater_than_50k, dtype: int64"
      ]
     },
     "execution_count": 18,
     "metadata": {},
     "output_type": "execute_result"
    }
   ],
   "source": [
    "df_census_test[[\"workclass\",  \"greater_than_50k\"]].groupby([\"workclass\"])[\"greater_than_50k\"].value_counts()"
   ]
  },
  {
   "cell_type": "markdown",
   "metadata": {},
   "source": [
    "We'll check other variables"
   ]
  },
  {
   "cell_type": "markdown",
   "metadata": {},
   "source": [
    "<b>Education </b>"
   ]
  },
  {
   "cell_type": "code",
   "execution_count": 19,
   "metadata": {},
   "outputs": [
    {
     "data": {
      "text/html": [
       "<div>\n",
       "<style scoped>\n",
       "    .dataframe tbody tr th:only-of-type {\n",
       "        vertical-align: middle;\n",
       "    }\n",
       "\n",
       "    .dataframe tbody tr th {\n",
       "        vertical-align: top;\n",
       "    }\n",
       "\n",
       "    .dataframe thead th {\n",
       "        text-align: right;\n",
       "    }\n",
       "</style>\n",
       "<table border=\"1\" class=\"dataframe\">\n",
       "  <thead>\n",
       "    <tr style=\"text-align: right;\">\n",
       "      <th></th>\n",
       "      <th>avg_over_50k</th>\n",
       "      <th>avg_over_50k_test</th>\n",
       "    </tr>\n",
       "    <tr>\n",
       "      <th>education</th>\n",
       "      <th></th>\n",
       "      <th></th>\n",
       "    </tr>\n",
       "  </thead>\n",
       "  <tbody>\n",
       "    <tr>\n",
       "      <th>10th</th>\n",
       "      <td>0.066452</td>\n",
       "      <td>0.054825</td>\n",
       "    </tr>\n",
       "    <tr>\n",
       "      <th>11th</th>\n",
       "      <td>0.051064</td>\n",
       "      <td>0.050235</td>\n",
       "    </tr>\n",
       "    <tr>\n",
       "      <th>12th</th>\n",
       "      <td>0.076212</td>\n",
       "      <td>0.066964</td>\n",
       "    </tr>\n",
       "    <tr>\n",
       "      <th>1st-4th</th>\n",
       "      <td>0.035714</td>\n",
       "      <td>0.025316</td>\n",
       "    </tr>\n",
       "    <tr>\n",
       "      <th>5th-6th</th>\n",
       "      <td>0.048048</td>\n",
       "      <td>0.062500</td>\n",
       "    </tr>\n",
       "    <tr>\n",
       "      <th>7th-8th</th>\n",
       "      <td>0.061920</td>\n",
       "      <td>0.071197</td>\n",
       "    </tr>\n",
       "    <tr>\n",
       "      <th>9th</th>\n",
       "      <td>0.052529</td>\n",
       "      <td>0.057851</td>\n",
       "    </tr>\n",
       "    <tr>\n",
       "      <th>Assoc-acdm</th>\n",
       "      <td>0.248360</td>\n",
       "      <td>0.277154</td>\n",
       "    </tr>\n",
       "    <tr>\n",
       "      <th>Assoc-voc</th>\n",
       "      <td>0.261216</td>\n",
       "      <td>0.237113</td>\n",
       "    </tr>\n",
       "    <tr>\n",
       "      <th>Bachelors</th>\n",
       "      <td>0.414753</td>\n",
       "      <td>0.408989</td>\n",
       "    </tr>\n",
       "    <tr>\n",
       "      <th>Doctorate</th>\n",
       "      <td>0.740920</td>\n",
       "      <td>0.690608</td>\n",
       "    </tr>\n",
       "    <tr>\n",
       "      <th>HS-grad</th>\n",
       "      <td>0.159509</td>\n",
       "      <td>0.156729</td>\n",
       "    </tr>\n",
       "    <tr>\n",
       "      <th>Masters</th>\n",
       "      <td>0.556587</td>\n",
       "      <td>0.535332</td>\n",
       "    </tr>\n",
       "    <tr>\n",
       "      <th>Preschool</th>\n",
       "      <td>0.000000</td>\n",
       "      <td>0.031250</td>\n",
       "    </tr>\n",
       "    <tr>\n",
       "      <th>Prof-school</th>\n",
       "      <td>0.734375</td>\n",
       "      <td>0.751938</td>\n",
       "    </tr>\n",
       "    <tr>\n",
       "      <th>Some-college</th>\n",
       "      <td>0.190261</td>\n",
       "      <td>0.188458</td>\n",
       "    </tr>\n",
       "  </tbody>\n",
       "</table>\n",
       "</div>"
      ],
      "text/plain": [
       "              avg_over_50k  avg_over_50k_test\n",
       "education                                    \n",
       "10th              0.066452           0.054825\n",
       "11th              0.051064           0.050235\n",
       "12th              0.076212           0.066964\n",
       "1st-4th           0.035714           0.025316\n",
       "5th-6th           0.048048           0.062500\n",
       "7th-8th           0.061920           0.071197\n",
       "9th               0.052529           0.057851\n",
       "Assoc-acdm        0.248360           0.277154\n",
       "Assoc-voc         0.261216           0.237113\n",
       "Bachelors         0.414753           0.408989\n",
       "Doctorate         0.740920           0.690608\n",
       "HS-grad           0.159509           0.156729\n",
       "Masters           0.556587           0.535332\n",
       "Preschool         0.000000           0.031250\n",
       "Prof-school       0.734375           0.751938\n",
       "Some-college      0.190261           0.188458"
      ]
     },
     "execution_count": 19,
     "metadata": {},
     "output_type": "execute_result"
    }
   ],
   "source": [
    "df_census_mean = pd.DataFrame({\"avg_over_50k\" : df_census[[\"education\",  \"greater_than_50k\"]].groupby([\"education\"])[\"greater_than_50k\"].mean()})\n",
    "df_census_mean_test = pd.DataFrame({\"avg_over_50k_test\" : df_census_test[[\"education\",  \"greater_than_50k\"]].groupby([\"education\"])[\"greater_than_50k\"].mean()})\n",
    "pd.concat([df_census_mean, df_census_mean_test], axis = 1)"
   ]
  },
  {
   "cell_type": "markdown",
   "metadata": {},
   "source": [
    "<b>Marital status </b>"
   ]
  },
  {
   "cell_type": "code",
   "execution_count": 20,
   "metadata": {
    "scrolled": true
   },
   "outputs": [
    {
     "data": {
      "text/html": [
       "<div>\n",
       "<style scoped>\n",
       "    .dataframe tbody tr th:only-of-type {\n",
       "        vertical-align: middle;\n",
       "    }\n",
       "\n",
       "    .dataframe tbody tr th {\n",
       "        vertical-align: top;\n",
       "    }\n",
       "\n",
       "    .dataframe thead th {\n",
       "        text-align: right;\n",
       "    }\n",
       "</style>\n",
       "<table border=\"1\" class=\"dataframe\">\n",
       "  <thead>\n",
       "    <tr style=\"text-align: right;\">\n",
       "      <th></th>\n",
       "      <th>avg_over_50k</th>\n",
       "      <th>avg_over_50k_test</th>\n",
       "    </tr>\n",
       "    <tr>\n",
       "      <th>marital_status</th>\n",
       "      <th></th>\n",
       "      <th></th>\n",
       "    </tr>\n",
       "  </thead>\n",
       "  <tbody>\n",
       "    <tr>\n",
       "      <th>Divorced</th>\n",
       "      <td>0.104209</td>\n",
       "      <td>0.094977</td>\n",
       "    </tr>\n",
       "    <tr>\n",
       "      <th>Married-AF-spouse</th>\n",
       "      <td>0.434783</td>\n",
       "      <td>0.285714</td>\n",
       "    </tr>\n",
       "    <tr>\n",
       "      <th>Married-civ-spouse</th>\n",
       "      <td>0.446848</td>\n",
       "      <td>0.444685</td>\n",
       "    </tr>\n",
       "    <tr>\n",
       "      <th>Married-spouse-absent</th>\n",
       "      <td>0.081340</td>\n",
       "      <td>0.114286</td>\n",
       "    </tr>\n",
       "    <tr>\n",
       "      <th>Never-married</th>\n",
       "      <td>0.045965</td>\n",
       "      <td>0.044534</td>\n",
       "    </tr>\n",
       "    <tr>\n",
       "      <th>Separated</th>\n",
       "      <td>0.064390</td>\n",
       "      <td>0.065347</td>\n",
       "    </tr>\n",
       "    <tr>\n",
       "      <th>Widowed</th>\n",
       "      <td>0.085599</td>\n",
       "      <td>0.081905</td>\n",
       "    </tr>\n",
       "  </tbody>\n",
       "</table>\n",
       "</div>"
      ],
      "text/plain": [
       "                       avg_over_50k  avg_over_50k_test\n",
       "marital_status                                        \n",
       "Divorced                   0.104209           0.094977\n",
       "Married-AF-spouse          0.434783           0.285714\n",
       "Married-civ-spouse         0.446848           0.444685\n",
       "Married-spouse-absent      0.081340           0.114286\n",
       "Never-married              0.045965           0.044534\n",
       "Separated                  0.064390           0.065347\n",
       "Widowed                    0.085599           0.081905"
      ]
     },
     "execution_count": 20,
     "metadata": {},
     "output_type": "execute_result"
    }
   ],
   "source": [
    "df_census_mean = pd.DataFrame({\"avg_over_50k\" : df_census[[\"marital_status\",  \"greater_than_50k\"]].groupby([\"marital_status\"])[\"greater_than_50k\"].mean()})\n",
    "df_census_mean_test = pd.DataFrame({\"avg_over_50k_test\" : df_census_test[[\"marital_status\",  \"greater_than_50k\"]].groupby([\"marital_status\"])[\"greater_than_50k\"].mean()})\n",
    "pd.concat([df_census_mean, df_census_mean_test], axis = 1)"
   ]
  },
  {
   "cell_type": "markdown",
   "metadata": {},
   "source": [
    "Also, it seems that there is a 12% of difference between Married-AF-spouse. But this is not so relevant."
   ]
  },
  {
   "cell_type": "code",
   "execution_count": 21,
   "metadata": {},
   "outputs": [
    {
     "data": {
      "text/plain": [
       "marital_status         greater_than_50k\n",
       "Divorced               0                   1982\n",
       "                       1                    208\n",
       "Married-AF-spouse      0                     10\n",
       "                       1                      4\n",
       "Married-civ-spouse     0                   4111\n",
       "                       1                   3292\n",
       "Married-spouse-absent  0                    186\n",
       "                       1                     24\n",
       "Never-married          0                   5192\n",
       "                       1                    242\n",
       "Separated              0                    472\n",
       "                       1                     33\n",
       "Widowed                0                    482\n",
       "                       1                     43\n",
       "Name: greater_than_50k, dtype: int64"
      ]
     },
     "execution_count": 21,
     "metadata": {},
     "output_type": "execute_result"
    }
   ],
   "source": [
    "df_census_test[[\"marital_status\",  \"greater_than_50k\"]].groupby([\"marital_status\"])[\"greater_than_50k\"].value_counts()"
   ]
  },
  {
   "cell_type": "markdown",
   "metadata": {},
   "source": [
    "<b>Occupation </b>"
   ]
  },
  {
   "cell_type": "code",
   "execution_count": 22,
   "metadata": {},
   "outputs": [
    {
     "data": {
      "text/html": [
       "<div>\n",
       "<style scoped>\n",
       "    .dataframe tbody tr th:only-of-type {\n",
       "        vertical-align: middle;\n",
       "    }\n",
       "\n",
       "    .dataframe tbody tr th {\n",
       "        vertical-align: top;\n",
       "    }\n",
       "\n",
       "    .dataframe thead th {\n",
       "        text-align: right;\n",
       "    }\n",
       "</style>\n",
       "<table border=\"1\" class=\"dataframe\">\n",
       "  <thead>\n",
       "    <tr style=\"text-align: right;\">\n",
       "      <th></th>\n",
       "      <th>avg_over_50k</th>\n",
       "      <th>avg_over_50k_test</th>\n",
       "    </tr>\n",
       "    <tr>\n",
       "      <th>occupation</th>\n",
       "      <th></th>\n",
       "      <th></th>\n",
       "    </tr>\n",
       "  </thead>\n",
       "  <tbody>\n",
       "    <tr>\n",
       "      <th>Adm-clerical</th>\n",
       "      <td>0.134483</td>\n",
       "      <td>0.141771</td>\n",
       "    </tr>\n",
       "    <tr>\n",
       "      <th>Armed-Forces</th>\n",
       "      <td>0.111111</td>\n",
       "      <td>0.666667</td>\n",
       "    </tr>\n",
       "    <tr>\n",
       "      <th>Craft-repair</th>\n",
       "      <td>0.226641</td>\n",
       "      <td>0.225534</td>\n",
       "    </tr>\n",
       "    <tr>\n",
       "      <th>Exec-managerial</th>\n",
       "      <td>0.484014</td>\n",
       "      <td>0.465347</td>\n",
       "    </tr>\n",
       "    <tr>\n",
       "      <th>Farming-fishing</th>\n",
       "      <td>0.115694</td>\n",
       "      <td>0.116935</td>\n",
       "    </tr>\n",
       "    <tr>\n",
       "      <th>Handlers-cleaners</th>\n",
       "      <td>0.062774</td>\n",
       "      <td>0.074074</td>\n",
       "    </tr>\n",
       "    <tr>\n",
       "      <th>Machine-op-inspct</th>\n",
       "      <td>0.124938</td>\n",
       "      <td>0.119608</td>\n",
       "    </tr>\n",
       "    <tr>\n",
       "      <th>Other-service</th>\n",
       "      <td>0.041578</td>\n",
       "      <td>0.041155</td>\n",
       "    </tr>\n",
       "    <tr>\n",
       "      <th>Priv-house-serv</th>\n",
       "      <td>0.006711</td>\n",
       "      <td>0.021505</td>\n",
       "    </tr>\n",
       "    <tr>\n",
       "      <th>Prof-specialty</th>\n",
       "      <td>0.449034</td>\n",
       "      <td>0.455217</td>\n",
       "    </tr>\n",
       "    <tr>\n",
       "      <th>Protective-serv</th>\n",
       "      <td>0.325116</td>\n",
       "      <td>0.290419</td>\n",
       "    </tr>\n",
       "    <tr>\n",
       "      <th>Sales</th>\n",
       "      <td>0.269315</td>\n",
       "      <td>0.265372</td>\n",
       "    </tr>\n",
       "    <tr>\n",
       "      <th>Tech-support</th>\n",
       "      <td>0.304957</td>\n",
       "      <td>0.264479</td>\n",
       "    </tr>\n",
       "    <tr>\n",
       "      <th>Transport-moving</th>\n",
       "      <td>0.200376</td>\n",
       "      <td>0.212401</td>\n",
       "    </tr>\n",
       "  </tbody>\n",
       "</table>\n",
       "</div>"
      ],
      "text/plain": [
       "                   avg_over_50k  avg_over_50k_test\n",
       "occupation                                        \n",
       "Adm-clerical           0.134483           0.141771\n",
       "Armed-Forces           0.111111           0.666667\n",
       "Craft-repair           0.226641           0.225534\n",
       "Exec-managerial        0.484014           0.465347\n",
       "Farming-fishing        0.115694           0.116935\n",
       "Handlers-cleaners      0.062774           0.074074\n",
       "Machine-op-inspct      0.124938           0.119608\n",
       "Other-service          0.041578           0.041155\n",
       "Priv-house-serv        0.006711           0.021505\n",
       "Prof-specialty         0.449034           0.455217\n",
       "Protective-serv        0.325116           0.290419\n",
       "Sales                  0.269315           0.265372\n",
       "Tech-support           0.304957           0.264479\n",
       "Transport-moving       0.200376           0.212401"
      ]
     },
     "execution_count": 22,
     "metadata": {},
     "output_type": "execute_result"
    }
   ],
   "source": [
    "df_census_mean = pd.DataFrame({\"avg_over_50k\" : df_census[[\"occupation\",  \"greater_than_50k\"]].groupby([\"occupation\"])[\"greater_than_50k\"].mean()})\n",
    "df_census_mean_test = pd.DataFrame({\"avg_over_50k_test\" : df_census_test[[\"occupation\",  \"greater_than_50k\"]].groupby([\"occupation\"])[\"greater_than_50k\"].mean()})\n",
    "pd.concat([df_census_mean, df_census_mean_test], axis = 1)"
   ]
  },
  {
   "cell_type": "markdown",
   "metadata": {},
   "source": [
    "Even if there are 66% of Armed-Forces from test dataset have an income over 50K, it may be that the sample took more armed forces observations, since there are few of them."
   ]
  },
  {
   "cell_type": "code",
   "execution_count": 23,
   "metadata": {},
   "outputs": [
    {
     "data": {
      "text/plain": [
       "Prof-specialty       4140\n",
       "Craft-repair         4099\n",
       "Exec-managerial      4066\n",
       "Adm-clerical         3770\n",
       "Sales                3650\n",
       "Other-service        3295\n",
       "Machine-op-inspct    2001\n",
       "Transport-moving     1597\n",
       "Handlers-cleaners    1370\n",
       "Farming-fishing       994\n",
       "Tech-support          928\n",
       "Protective-serv       649\n",
       "Priv-house-serv       149\n",
       "Armed-Forces            9\n",
       "Name: occupation, dtype: int64"
      ]
     },
     "execution_count": 23,
     "metadata": {},
     "output_type": "execute_result"
    }
   ],
   "source": [
    "df_census[\"occupation\"].value_counts()"
   ]
  },
  {
   "cell_type": "code",
   "execution_count": 24,
   "metadata": {
    "scrolled": true
   },
   "outputs": [
    {
     "data": {
      "image/png": "[encoded data removed]",
      "text/plain": [
       "<Figure size 432x288 with 1 Axes>"
      ]
     },
     "metadata": {
      "needs_background": "light"
     },
     "output_type": "display_data"
    }
   ],
   "source": [
    "gr_occupation = sns.barplot(y = \"occupation\", x =\"greater_than_50k\", data=df_census, estimator = np.mean)"
   ]
  },
  {
   "cell_type": "code",
   "execution_count": 25,
   "metadata": {},
   "outputs": [
    {
     "data": {
      "image/png": "[encoded data removed]",
      "text/plain": [
       "<Figure size 432x288 with 1 Axes>"
      ]
     },
     "metadata": {
      "needs_background": "light"
     },
     "output_type": "display_data"
    }
   ],
   "source": [
    "gr_occupation = sns.barplot(y = \"occupation\", x =\"greater_than_50k\", data=df_census_test, estimator = np.mean)"
   ]
  },
  {
   "cell_type": "markdown",
   "metadata": {},
   "source": [
    "From the former graphics, we see that the margin of error in Armed-Forces is high, because there are very few observations. Because of that we can't state that census.csv is manipulated."
   ]
  },
  {
   "cell_type": "markdown",
   "metadata": {},
   "source": [
    "<b>Relationship </b>"
   ]
  },
  {
   "cell_type": "code",
   "execution_count": 26,
   "metadata": {},
   "outputs": [
    {
     "data": {
      "text/html": [
       "<div>\n",
       "<style scoped>\n",
       "    .dataframe tbody tr th:only-of-type {\n",
       "        vertical-align: middle;\n",
       "    }\n",
       "\n",
       "    .dataframe tbody tr th {\n",
       "        vertical-align: top;\n",
       "    }\n",
       "\n",
       "    .dataframe thead th {\n",
       "        text-align: right;\n",
       "    }\n",
       "</style>\n",
       "<table border=\"1\" class=\"dataframe\">\n",
       "  <thead>\n",
       "    <tr style=\"text-align: right;\">\n",
       "      <th></th>\n",
       "      <th>avg_over_50k</th>\n",
       "      <th>avg_over_50k_test</th>\n",
       "    </tr>\n",
       "    <tr>\n",
       "      <th>relationship</th>\n",
       "      <th></th>\n",
       "      <th></th>\n",
       "    </tr>\n",
       "  </thead>\n",
       "  <tbody>\n",
       "    <tr>\n",
       "      <th>Husband</th>\n",
       "      <td>0.448571</td>\n",
       "      <td>0.448873</td>\n",
       "    </tr>\n",
       "    <tr>\n",
       "      <th>Not-in-family</th>\n",
       "      <td>0.103070</td>\n",
       "      <td>0.098177</td>\n",
       "    </tr>\n",
       "    <tr>\n",
       "      <th>Other-relative</th>\n",
       "      <td>0.037755</td>\n",
       "      <td>0.028571</td>\n",
       "    </tr>\n",
       "    <tr>\n",
       "      <th>Own-child</th>\n",
       "      <td>0.013220</td>\n",
       "      <td>0.017509</td>\n",
       "    </tr>\n",
       "    <tr>\n",
       "      <th>Unmarried</th>\n",
       "      <td>0.063262</td>\n",
       "      <td>0.054199</td>\n",
       "    </tr>\n",
       "    <tr>\n",
       "      <th>Wife</th>\n",
       "      <td>0.475128</td>\n",
       "      <td>0.456094</td>\n",
       "    </tr>\n",
       "  </tbody>\n",
       "</table>\n",
       "</div>"
      ],
      "text/plain": [
       "                avg_over_50k  avg_over_50k_test\n",
       "relationship                                   \n",
       "Husband             0.448571           0.448873\n",
       "Not-in-family       0.103070           0.098177\n",
       "Other-relative      0.037755           0.028571\n",
       "Own-child           0.013220           0.017509\n",
       "Unmarried           0.063262           0.054199\n",
       "Wife                0.475128           0.456094"
      ]
     },
     "execution_count": 26,
     "metadata": {},
     "output_type": "execute_result"
    }
   ],
   "source": [
    "df_census_mean = pd.DataFrame({\"avg_over_50k\" : df_census[[\"relationship\",  \"greater_than_50k\"]].groupby([\"relationship\"])[\"greater_than_50k\"].mean()})\n",
    "df_census_mean_test = pd.DataFrame({\"avg_over_50k_test\" : df_census_test[[\"relationship\",  \"greater_than_50k\"]].groupby([\"relationship\"])[\"greater_than_50k\"].mean()})\n",
    "pd.concat([df_census_mean, df_census_mean_test], axis = 1)"
   ]
  },
  {
   "cell_type": "markdown",
   "metadata": {},
   "source": [
    "<b>Race </b>"
   ]
  },
  {
   "cell_type": "code",
   "execution_count": 27,
   "metadata": {},
   "outputs": [
    {
     "data": {
      "text/html": [
       "<div>\n",
       "<style scoped>\n",
       "    .dataframe tbody tr th:only-of-type {\n",
       "        vertical-align: middle;\n",
       "    }\n",
       "\n",
       "    .dataframe tbody tr th {\n",
       "        vertical-align: top;\n",
       "    }\n",
       "\n",
       "    .dataframe thead th {\n",
       "        text-align: right;\n",
       "    }\n",
       "</style>\n",
       "<table border=\"1\" class=\"dataframe\">\n",
       "  <thead>\n",
       "    <tr style=\"text-align: right;\">\n",
       "      <th></th>\n",
       "      <th>avg_over_50k</th>\n",
       "      <th>avg_over_50k_test</th>\n",
       "    </tr>\n",
       "    <tr>\n",
       "      <th>race</th>\n",
       "      <th></th>\n",
       "      <th></th>\n",
       "    </tr>\n",
       "  </thead>\n",
       "  <tbody>\n",
       "    <tr>\n",
       "      <th>Amer-Indian-Eskimo</th>\n",
       "      <td>0.115756</td>\n",
       "      <td>0.119497</td>\n",
       "    </tr>\n",
       "    <tr>\n",
       "      <th>Asian-Pac-Islander</th>\n",
       "      <td>0.265640</td>\n",
       "      <td>0.277083</td>\n",
       "    </tr>\n",
       "    <tr>\n",
       "      <th>Black</th>\n",
       "      <td>0.123880</td>\n",
       "      <td>0.114670</td>\n",
       "    </tr>\n",
       "    <tr>\n",
       "      <th>Other</th>\n",
       "      <td>0.092251</td>\n",
       "      <td>0.185185</td>\n",
       "    </tr>\n",
       "    <tr>\n",
       "      <th>White</th>\n",
       "      <td>0.255869</td>\n",
       "      <td>0.250251</td>\n",
       "    </tr>\n",
       "  </tbody>\n",
       "</table>\n",
       "</div>"
      ],
      "text/plain": [
       "                    avg_over_50k  avg_over_50k_test\n",
       "race                                               \n",
       "Amer-Indian-Eskimo      0.115756           0.119497\n",
       "Asian-Pac-Islander      0.265640           0.277083\n",
       "Black                   0.123880           0.114670\n",
       "Other                   0.092251           0.185185\n",
       "White                   0.255869           0.250251"
      ]
     },
     "execution_count": 27,
     "metadata": {},
     "output_type": "execute_result"
    }
   ],
   "source": [
    "df_census_mean = pd.DataFrame({\"avg_over_50k\" : df_census[[\"race\",  \"greater_than_50k\"]].groupby([\"race\"])[\"greater_than_50k\"].mean()})\n",
    "df_census_mean_test = pd.DataFrame({\"avg_over_50k_test\" : df_census_test[[\"race\",  \"greater_than_50k\"]].groupby([\"race\"])[\"greater_than_50k\"].mean()})\n",
    "pd.concat([df_census_mean, df_census_mean_test], axis = 1)"
   ]
  },
  {
   "cell_type": "markdown",
   "metadata": {},
   "source": [
    "<b>Gender </b>"
   ]
  },
  {
   "cell_type": "code",
   "execution_count": 28,
   "metadata": {},
   "outputs": [
    {
     "data": {
      "text/html": [
       "<div>\n",
       "<style scoped>\n",
       "    .dataframe tbody tr th:only-of-type {\n",
       "        vertical-align: middle;\n",
       "    }\n",
       "\n",
       "    .dataframe tbody tr th {\n",
       "        vertical-align: top;\n",
       "    }\n",
       "\n",
       "    .dataframe thead th {\n",
       "        text-align: right;\n",
       "    }\n",
       "</style>\n",
       "<table border=\"1\" class=\"dataframe\">\n",
       "  <thead>\n",
       "    <tr style=\"text-align: right;\">\n",
       "      <th></th>\n",
       "      <th>avg_over_50k</th>\n",
       "      <th>avg_over_50k_test</th>\n",
       "    </tr>\n",
       "    <tr>\n",
       "      <th>gender</th>\n",
       "      <th></th>\n",
       "      <th></th>\n",
       "    </tr>\n",
       "  </thead>\n",
       "  <tbody>\n",
       "    <tr>\n",
       "      <th>Female</th>\n",
       "      <td>0.109471</td>\n",
       "      <td>0.108836</td>\n",
       "    </tr>\n",
       "    <tr>\n",
       "      <th>Male</th>\n",
       "      <td>0.305737</td>\n",
       "      <td>0.299816</td>\n",
       "    </tr>\n",
       "  </tbody>\n",
       "</table>\n",
       "</div>"
      ],
      "text/plain": [
       "        avg_over_50k  avg_over_50k_test\n",
       "gender                                 \n",
       "Female      0.109471           0.108836\n",
       "Male        0.305737           0.299816"
      ]
     },
     "execution_count": 28,
     "metadata": {},
     "output_type": "execute_result"
    }
   ],
   "source": [
    "df_census_mean = pd.DataFrame({\"avg_over_50k\" : df_census[[\"gender\",  \"greater_than_50k\"]].groupby([\"gender\"])[\"greater_than_50k\"].mean()})\n",
    "df_census_mean_test = pd.DataFrame({\"avg_over_50k_test\" : df_census_test[[\"gender\",  \"greater_than_50k\"]].groupby([\"gender\"])[\"greater_than_50k\"].mean()})\n",
    "pd.concat([df_census_mean, df_census_mean_test], axis = 1)"
   ]
  },
  {
   "cell_type": "markdown",
   "metadata": {},
   "source": [
    "<b>Native country </b>"
   ]
  },
  {
   "cell_type": "code",
   "execution_count": 29,
   "metadata": {},
   "outputs": [
    {
     "data": {
      "text/html": [
       "<div>\n",
       "<style scoped>\n",
       "    .dataframe tbody tr th:only-of-type {\n",
       "        vertical-align: middle;\n",
       "    }\n",
       "\n",
       "    .dataframe tbody tr th {\n",
       "        vertical-align: top;\n",
       "    }\n",
       "\n",
       "    .dataframe thead th {\n",
       "        text-align: right;\n",
       "    }\n",
       "</style>\n",
       "<table border=\"1\" class=\"dataframe\">\n",
       "  <thead>\n",
       "    <tr style=\"text-align: right;\">\n",
       "      <th></th>\n",
       "      <th>avg_over_50k</th>\n",
       "      <th>avg_over_50k_test</th>\n",
       "    </tr>\n",
       "    <tr>\n",
       "      <th>native_country</th>\n",
       "      <th></th>\n",
       "      <th></th>\n",
       "    </tr>\n",
       "  </thead>\n",
       "  <tbody>\n",
       "    <tr>\n",
       "      <th>Cambodia</th>\n",
       "      <td>0.368421</td>\n",
       "      <td>0.222222</td>\n",
       "    </tr>\n",
       "    <tr>\n",
       "      <th>Canada</th>\n",
       "      <td>0.322314</td>\n",
       "      <td>0.393443</td>\n",
       "    </tr>\n",
       "    <tr>\n",
       "      <th>China</th>\n",
       "      <td>0.266667</td>\n",
       "      <td>0.340426</td>\n",
       "    </tr>\n",
       "    <tr>\n",
       "      <th>Columbia</th>\n",
       "      <td>0.033898</td>\n",
       "      <td>0.076923</td>\n",
       "    </tr>\n",
       "    <tr>\n",
       "      <th>Cuba</th>\n",
       "      <td>0.263158</td>\n",
       "      <td>0.209302</td>\n",
       "    </tr>\n",
       "    <tr>\n",
       "      <th>Dominican-Republic</th>\n",
       "      <td>0.028571</td>\n",
       "      <td>0.090909</td>\n",
       "    </tr>\n",
       "    <tr>\n",
       "      <th>Ecuador</th>\n",
       "      <td>0.142857</td>\n",
       "      <td>0.117647</td>\n",
       "    </tr>\n",
       "    <tr>\n",
       "      <th>El-Salvador</th>\n",
       "      <td>0.084906</td>\n",
       "      <td>0.040816</td>\n",
       "    </tr>\n",
       "    <tr>\n",
       "      <th>England</th>\n",
       "      <td>0.333333</td>\n",
       "      <td>0.459459</td>\n",
       "    </tr>\n",
       "    <tr>\n",
       "      <th>France</th>\n",
       "      <td>0.413793</td>\n",
       "      <td>0.444444</td>\n",
       "    </tr>\n",
       "    <tr>\n",
       "      <th>Germany</th>\n",
       "      <td>0.321168</td>\n",
       "      <td>0.202899</td>\n",
       "    </tr>\n",
       "    <tr>\n",
       "      <th>Greece</th>\n",
       "      <td>0.275862</td>\n",
       "      <td>0.500000</td>\n",
       "    </tr>\n",
       "    <tr>\n",
       "      <th>Guatemala</th>\n",
       "      <td>0.046875</td>\n",
       "      <td>0.000000</td>\n",
       "    </tr>\n",
       "    <tr>\n",
       "      <th>Haiti</th>\n",
       "      <td>0.090909</td>\n",
       "      <td>0.161290</td>\n",
       "    </tr>\n",
       "    <tr>\n",
       "      <th>Honduras</th>\n",
       "      <td>0.076923</td>\n",
       "      <td>0.142857</td>\n",
       "    </tr>\n",
       "    <tr>\n",
       "      <th>Hong</th>\n",
       "      <td>0.300000</td>\n",
       "      <td>0.200000</td>\n",
       "    </tr>\n",
       "    <tr>\n",
       "      <th>Hungary</th>\n",
       "      <td>0.230769</td>\n",
       "      <td>0.500000</td>\n",
       "    </tr>\n",
       "    <tr>\n",
       "      <th>India</th>\n",
       "      <td>0.400000</td>\n",
       "      <td>0.431373</td>\n",
       "    </tr>\n",
       "    <tr>\n",
       "      <th>Iran</th>\n",
       "      <td>0.418605</td>\n",
       "      <td>0.250000</td>\n",
       "    </tr>\n",
       "    <tr>\n",
       "      <th>Ireland</th>\n",
       "      <td>0.208333</td>\n",
       "      <td>0.461538</td>\n",
       "    </tr>\n",
       "    <tr>\n",
       "      <th>Italy</th>\n",
       "      <td>0.342466</td>\n",
       "      <td>0.281250</td>\n",
       "    </tr>\n",
       "    <tr>\n",
       "      <th>Jamaica</th>\n",
       "      <td>0.123457</td>\n",
       "      <td>0.200000</td>\n",
       "    </tr>\n",
       "    <tr>\n",
       "      <th>Japan</th>\n",
       "      <td>0.387097</td>\n",
       "      <td>0.266667</td>\n",
       "    </tr>\n",
       "    <tr>\n",
       "      <th>Laos</th>\n",
       "      <td>0.111111</td>\n",
       "      <td>0.000000</td>\n",
       "    </tr>\n",
       "    <tr>\n",
       "      <th>Mexico</th>\n",
       "      <td>0.051322</td>\n",
       "      <td>0.045455</td>\n",
       "    </tr>\n",
       "    <tr>\n",
       "      <th>Nicaragua</th>\n",
       "      <td>0.058824</td>\n",
       "      <td>0.066667</td>\n",
       "    </tr>\n",
       "    <tr>\n",
       "      <th>Outlying-US(Guam-USVI-etc)</th>\n",
       "      <td>0.000000</td>\n",
       "      <td>0.111111</td>\n",
       "    </tr>\n",
       "    <tr>\n",
       "      <th>Peru</th>\n",
       "      <td>0.064516</td>\n",
       "      <td>0.133333</td>\n",
       "    </tr>\n",
       "    <tr>\n",
       "      <th>Philippines</th>\n",
       "      <td>0.308081</td>\n",
       "      <td>0.247423</td>\n",
       "    </tr>\n",
       "    <tr>\n",
       "      <th>Poland</th>\n",
       "      <td>0.200000</td>\n",
       "      <td>0.185185</td>\n",
       "    </tr>\n",
       "    <tr>\n",
       "      <th>Portugal</th>\n",
       "      <td>0.108108</td>\n",
       "      <td>0.266667</td>\n",
       "    </tr>\n",
       "    <tr>\n",
       "      <th>Puerto-Rico</th>\n",
       "      <td>0.105263</td>\n",
       "      <td>0.114286</td>\n",
       "    </tr>\n",
       "    <tr>\n",
       "      <th>Scotland</th>\n",
       "      <td>0.250000</td>\n",
       "      <td>0.000000</td>\n",
       "    </tr>\n",
       "    <tr>\n",
       "      <th>South</th>\n",
       "      <td>0.200000</td>\n",
       "      <td>0.114286</td>\n",
       "    </tr>\n",
       "    <tr>\n",
       "      <th>Taiwan</th>\n",
       "      <td>0.392157</td>\n",
       "      <td>0.428571</td>\n",
       "    </tr>\n",
       "    <tr>\n",
       "      <th>Thailand</th>\n",
       "      <td>0.166667</td>\n",
       "      <td>0.166667</td>\n",
       "    </tr>\n",
       "    <tr>\n",
       "      <th>Trinadad&amp;Tobago</th>\n",
       "      <td>0.105263</td>\n",
       "      <td>0.000000</td>\n",
       "    </tr>\n",
       "    <tr>\n",
       "      <th>United-States</th>\n",
       "      <td>0.245835</td>\n",
       "      <td>0.240281</td>\n",
       "    </tr>\n",
       "    <tr>\n",
       "      <th>Vietnam</th>\n",
       "      <td>0.074627</td>\n",
       "      <td>0.105263</td>\n",
       "    </tr>\n",
       "    <tr>\n",
       "      <th>Yugoslavia</th>\n",
       "      <td>0.375000</td>\n",
       "      <td>0.285714</td>\n",
       "    </tr>\n",
       "  </tbody>\n",
       "</table>\n",
       "</div>"
      ],
      "text/plain": [
       "                            avg_over_50k  avg_over_50k_test\n",
       "native_country                                             \n",
       "Cambodia                        0.368421           0.222222\n",
       "Canada                          0.322314           0.393443\n",
       "China                           0.266667           0.340426\n",
       "Columbia                        0.033898           0.076923\n",
       "Cuba                            0.263158           0.209302\n",
       "Dominican-Republic              0.028571           0.090909\n",
       "Ecuador                         0.142857           0.117647\n",
       "El-Salvador                     0.084906           0.040816\n",
       "England                         0.333333           0.459459\n",
       "France                          0.413793           0.444444\n",
       "Germany                         0.321168           0.202899\n",
       "Greece                          0.275862           0.500000\n",
       "Guatemala                       0.046875           0.000000\n",
       "Haiti                           0.090909           0.161290\n",
       "Honduras                        0.076923           0.142857\n",
       "Hong                            0.300000           0.200000\n",
       "Hungary                         0.230769           0.500000\n",
       "India                           0.400000           0.431373\n",
       "Iran                            0.418605           0.250000\n",
       "Ireland                         0.208333           0.461538\n",
       "Italy                           0.342466           0.281250\n",
       "Jamaica                         0.123457           0.200000\n",
       "Japan                           0.387097           0.266667\n",
       "Laos                            0.111111           0.000000\n",
       "Mexico                          0.051322           0.045455\n",
       "Nicaragua                       0.058824           0.066667\n",
       "Outlying-US(Guam-USVI-etc)      0.000000           0.111111\n",
       "Peru                            0.064516           0.133333\n",
       "Philippines                     0.308081           0.247423\n",
       "Poland                          0.200000           0.185185\n",
       "Portugal                        0.108108           0.266667\n",
       "Puerto-Rico                     0.105263           0.114286\n",
       "Scotland                        0.250000           0.000000\n",
       "South                           0.200000           0.114286\n",
       "Taiwan                          0.392157           0.428571\n",
       "Thailand                        0.166667           0.166667\n",
       "Trinadad&Tobago                 0.105263           0.000000\n",
       "United-States                   0.245835           0.240281\n",
       "Vietnam                         0.074627           0.105263\n",
       "Yugoslavia                      0.375000           0.285714"
      ]
     },
     "execution_count": 29,
     "metadata": {},
     "output_type": "execute_result"
    }
   ],
   "source": [
    "df_census_mean = pd.DataFrame({\"avg_over_50k\" : df_census[[\"native_country\",  \"greater_than_50k\"]].groupby([\"native_country\"])[\"greater_than_50k\"].mean()})\n",
    "df_census_mean_test = pd.DataFrame({\"avg_over_50k_test\" : df_census_test[[\"native_country\",  \"greater_than_50k\"]].groupby([\"native_country\"])[\"greater_than_50k\"].mean()})\n",
    "pd.concat([df_census_mean, df_census_mean_test], axis = 1)"
   ]
  },
  {
   "cell_type": "markdown",
   "metadata": {},
   "source": [
    "One last plot to show the proportions"
   ]
  },
  {
   "cell_type": "code",
   "execution_count": 30,
   "metadata": {
    "scrolled": false
   },
   "outputs": [
    {
     "data": {
      "text/plain": [
       "<matplotlib.axes._subplots.AxesSubplot at 0x7fac44ec3b70>"
      ]
     },
     "execution_count": 30,
     "metadata": {},
     "output_type": "execute_result"
    },
    {
     "data": {
      "image/png": "[encoded data removed]",
      "text/plain": [
       "<Figure size 432x288 with 1 Axes>"
      ]
     },
     "metadata": {
      "needs_background": "light"
     },
     "output_type": "display_data"
    }
   ],
   "source": [
    "sns.countplot(y='occupation', hue='greater_than_50k', data=df_census)"
   ]
  },
  {
   "cell_type": "code",
   "execution_count": 31,
   "metadata": {
    "scrolled": true
   },
   "outputs": [
    {
     "data": {
      "text/plain": [
       "<matplotlib.axes._subplots.AxesSubplot at 0x7fac44ec3f60>"
      ]
     },
     "execution_count": 31,
     "metadata": {},
     "output_type": "execute_result"
    },
    {
     "data": {
      "image/png": "[encoded data removed]",
      "text/plain": [
       "<Figure size 432x288 with 1 Axes>"
      ]
     },
     "metadata": {
      "needs_background": "light"
     },
     "output_type": "display_data"
    }
   ],
   "source": [
    "sns.countplot(y='occupation', hue='greater_than_50k', data=df_census_test)"
   ]
  },
  {
   "cell_type": "markdown",
   "metadata": {},
   "source": [
    "<b> We can state that census_test.csv is not manipulated. Data distribution is very similar for both datasets and when there is a significant difference, the margin of error is high because there are very few observations (as in Armed-foces). Also, it seems that there is an error because there are people workclass Without-pay that have an income over 50K, while in the original dataset (census.csv), there were 0 people. "
   ]
  },
  {
   "cell_type": "markdown",
   "metadata": {},
   "source": [
    "# Exercise 2: applying logistic regresion"
   ]
  },
  {
   "cell_type": "code",
   "execution_count": 32,
   "metadata": {},
   "outputs": [],
   "source": [
    "%matplotlib inline\n",
    "import scipy.stats as stats\n",
    "import statsmodels.api as sm\n",
    "import matplotlib.pyplot as plt\n",
    "import seaborn as sns\n",
    "\n",
    "from sklearn.model_selection import train_test_split"
   ]
  },
  {
   "cell_type": "markdown",
   "metadata": {},
   "source": [
    "First of all, we have to deal with null values. A good aproach to deal with null values\n",
    "is applyin a heatmap"
   ]
  },
  {
   "cell_type": "code",
   "execution_count": 33,
   "metadata": {
    "scrolled": false
   },
   "outputs": [
    {
     "data": {
      "text/plain": [
       "<matplotlib.axes._subplots.AxesSubplot at 0x7fac41e13438>"
      ]
     },
     "execution_count": 33,
     "metadata": {},
     "output_type": "execute_result"
    },
    {
     "data": {
      "image/png": "[encoded data removed]",
      "text/plain": [
       "<Figure size 432x288 with 2 Axes>"
      ]
     },
     "metadata": {
      "needs_background": "light"
     },
     "output_type": "display_data"
    }
   ],
   "source": [
    "sns.heatmap(df_census.isnull())"
   ]
  },
  {
   "cell_type": "code",
   "execution_count": 34,
   "metadata": {},
   "outputs": [],
   "source": [
    "df_census.dropna(inplace = True)"
   ]
  },
  {
   "cell_type": "markdown",
   "metadata": {},
   "source": [
    "<b> We are going to calculate a logistic regression using sklearn </b>"
   ]
  },
  {
   "cell_type": "code",
   "execution_count": 35,
   "metadata": {},
   "outputs": [],
   "source": [
    "from sklearn.model_selection import train_test_split\n",
    "from warnings import simplefilter\n",
    "\n",
    "simplefilter(action='ignore', category=FutureWarning)\n"
   ]
  },
  {
   "cell_type": "markdown",
   "metadata": {},
   "source": [
    "Because we can't compute independent categorical variables in a machine learning algorithm, we have to use the pandas method get_dummies."
   ]
  },
  {
   "cell_type": "code",
   "execution_count": 36,
   "metadata": {},
   "outputs": [],
   "source": [
    "df_census_dummies = pd.get_dummies(df_census[['workclass', 'education', 'marital_status',\n",
    "       'occupation', 'relationship', 'race', 'gender',\n",
    "       'native_country']])"
   ]
  },
  {
   "cell_type": "code",
   "execution_count": 37,
   "metadata": {},
   "outputs": [],
   "source": [
    "df_census.drop(['workclass', 'education', 'marital_status',\n",
    "       'occupation', 'relationship', 'race', 'gender',\n",
    "       'native_country'], axis = 1, inplace=True)"
   ]
  },
  {
   "cell_type": "code",
   "execution_count": 38,
   "metadata": {},
   "outputs": [],
   "source": [
    "#We get together original dataset with dummies\n",
    "\n",
    "df_census_train = pd.concat([df_census_dummies, df_census], axis = 1)"
   ]
  },
  {
   "cell_type": "markdown",
   "metadata": {},
   "source": [
    "We'll split census dataset for training and test"
   ]
  },
  {
   "cell_type": "code",
   "execution_count": 39,
   "metadata": {},
   "outputs": [],
   "source": [
    "X_train, X_test, y_train, y_test = train_test_split(df_census_train.drop('greater_than_50k',axis=1), \n",
    "                                                    df_census_train['greater_than_50k'], test_size=0.30, \n",
    "                                                    random_state=101)"
   ]
  },
  {
   "cell_type": "code",
   "execution_count": 40,
   "metadata": {},
   "outputs": [
    {
     "data": {
      "text/plain": [
       "LogisticRegression(C=1.0, class_weight=None, dual=False, fit_intercept=True,\n",
       "                   intercept_scaling=1, l1_ratio=None, max_iter=100,\n",
       "                   multi_class='warn', n_jobs=None, penalty='l2',\n",
       "                   random_state=None, solver='warn', tol=0.0001, verbose=0,\n",
       "                   warm_start=False)"
      ]
     },
     "execution_count": 40,
     "metadata": {},
     "output_type": "execute_result"
    }
   ],
   "source": [
    "from sklearn.linear_model import LogisticRegression\n",
    "from sklearn import metrics\n",
    "logmodel = LogisticRegression()\n",
    "logmodel.fit(X_train,y_train)"
   ]
  },
  {
   "cell_type": "code",
   "execution_count": 41,
   "metadata": {},
   "outputs": [],
   "source": [
    "predictions = logmodel.predict(X_test)"
   ]
  },
  {
   "cell_type": "code",
   "execution_count": 42,
   "metadata": {
    "scrolled": false
   },
   "outputs": [
    {
     "name": "stdout",
     "output_type": "stream",
     "text": [
      "              precision    recall  f1-score   support\n",
      "\n",
      "           0       0.86      0.92      0.89      6739\n",
      "           1       0.71      0.57      0.64      2310\n",
      "\n",
      "    accuracy                           0.83      9049\n",
      "   macro avg       0.79      0.75      0.76      9049\n",
      "weighted avg       0.82      0.83      0.83      9049\n",
      "\n"
     ]
    }
   ],
   "source": [
    "from sklearn.metrics import classification_report\n",
    "print(classification_report(y_test,predictions))"
   ]
  },
  {
   "cell_type": "code",
   "execution_count": 43,
   "metadata": {},
   "outputs": [
    {
     "name": "stdout",
     "output_type": "stream",
     "text": [
      "Model Score:  0.832357166537739\n"
     ]
    }
   ],
   "source": [
    "# Our accuracy is:\n",
    "logmodel_score = logmodel.score(X_test, y_test)\n",
    "print(\"Model Score: \" ,logmodel_score)"
   ]
  },
  {
   "cell_type": "code",
   "execution_count": 44,
   "metadata": {
    "scrolled": false
   },
   "outputs": [
    {
     "data": {
      "text/html": [
       "<div>\n",
       "<style scoped>\n",
       "    .dataframe tbody tr th:only-of-type {\n",
       "        vertical-align: middle;\n",
       "    }\n",
       "\n",
       "    .dataframe tbody tr th {\n",
       "        vertical-align: top;\n",
       "    }\n",
       "\n",
       "    .dataframe thead th {\n",
       "        text-align: right;\n",
       "    }\n",
       "</style>\n",
       "<table border=\"1\" class=\"dataframe\">\n",
       "  <thead>\n",
       "    <tr style=\"text-align: right;\">\n",
       "      <th></th>\n",
       "      <th>PREDICTED_FALSE</th>\n",
       "      <th>PREDICTED_TRUE</th>\n",
       "    </tr>\n",
       "  </thead>\n",
       "  <tbody>\n",
       "    <tr>\n",
       "      <th>ACTUAL_FALSE</th>\n",
       "      <td>6212</td>\n",
       "      <td>527</td>\n",
       "    </tr>\n",
       "    <tr>\n",
       "      <th>ACTUAL_TRUE</th>\n",
       "      <td>990</td>\n",
       "      <td>1320</td>\n",
       "    </tr>\n",
       "  </tbody>\n",
       "</table>\n",
       "</div>"
      ],
      "text/plain": [
       "              PREDICTED_FALSE  PREDICTED_TRUE\n",
       "ACTUAL_FALSE             6212             527\n",
       "ACTUAL_TRUE               990            1320"
      ]
     },
     "execution_count": 44,
     "metadata": {},
     "output_type": "execute_result"
    }
   ],
   "source": [
    "pd.DataFrame(metrics.confusion_matrix(y_test, predictions), columns = [\"PREDICTED_FALSE\",\"PREDICTED_TRUE\" ], index = [\"ACTUAL_FALSE\", \"ACTUAL_TRUE\"])"
   ]
  },
  {
   "cell_type": "markdown",
   "metadata": {},
   "source": [
    "<b> Now let's calculate KS and GINI index </b>"
   ]
  },
  {
   "cell_type": "markdown",
   "metadata": {},
   "source": [
    "KS and GINI for train"
   ]
  },
  {
   "cell_type": "code",
   "execution_count": 45,
   "metadata": {},
   "outputs": [
    {
     "name": "stdout",
     "output_type": "stream",
     "text": [
      "KS= 0.6199763948613243\n"
     ]
    }
   ],
   "source": [
    "a = logmodel.predict_proba(X_train)[:,1]\n",
    "b = y_train\n",
    "\n",
    "tot_bads=1.0*sum(b)\n",
    "tot_goods=1.0*(len(b)-tot_bads)\n",
    "elements_df = pd.DataFrame({'probability': a,'gbi': b})\n",
    "pivot_elements_df = pd.pivot_table(elements_df, values='gbi', index=['probability'], aggfunc=[sum,len]).fillna(0)\n",
    "max_ks = perc_goods = perc_bads = cum_perc_bads = cum_perc_goods = 0\n",
    "cum_perc_bads_list = [0.0]\n",
    "cum_perc_goods_list = [0.0]\n",
    "cum_cp_minus = [0.0]\n",
    "cum_cp_plus = [0.0]\n",
    "\n",
    "for i in range(len(pivot_elements_df)):\n",
    "    perc_goods =  ((pivot_elements_df['len'].iloc[i]['gbi'] - pivot_elements_df['sum'].iloc[i]['gbi']) / tot_goods)\n",
    "    perc_bads = float(pivot_elements_df['sum']['gbi'].iloc[i]/ tot_bads)\n",
    "    cum_perc_goods += perc_goods   \n",
    "    cum_perc_bads += perc_bads\n",
    "\n",
    "    \n",
    "    cum_perc_bads_list.append(cum_perc_bads)\n",
    "    cum_perc_goods_list.append(cum_perc_goods)\n",
    "    cum_diff = cum_perc_bads-cum_perc_goods\n",
    "\n",
    "    cum_cp_minus.append(0.0)    \n",
    "    cum_cp_minus[-1] = cum_perc_bads_list[-1] - cum_perc_bads_list[-2]\n",
    "\n",
    "    cum_cp_plus.append(0.0)\n",
    "    cum_cp_plus[-1] = cum_perc_goods_list[-1] + cum_perc_goods_list[-2]\n",
    "    \n",
    "    \n",
    "    if abs(cum_diff) > max_ks:\n",
    "        max_ks = abs(cum_diff)\n",
    "\n",
    "print('KS=',max_ks)"
   ]
  },
  {
   "cell_type": "code",
   "execution_count": 46,
   "metadata": {},
   "outputs": [
    {
     "name": "stdout",
     "output_type": "stream",
     "text": [
      "GINI= 0.9822575852953017\n"
     ]
    }
   ],
   "source": [
    "z_score = 0\n",
    "for i in range(len(cum_cp_plus)):\n",
    "    try:\n",
    "        z_score +=  cum_cp_minus[i] * cum_cp_plus[i]\n",
    "    except:\n",
    "        pass\n",
    "print('GINI=',1- z_score/100.0)"
   ]
  },
  {
   "cell_type": "markdown",
   "metadata": {},
   "source": [
    "KS and GINI for test"
   ]
  },
  {
   "cell_type": "code",
   "execution_count": 47,
   "metadata": {},
   "outputs": [
    {
     "name": "stdout",
     "output_type": "stream",
     "text": [
      "KS= 0.6129094133843203\n"
     ]
    }
   ],
   "source": [
    "a = logmodel.predict_proba(X_test)[:,1]\n",
    "b = y_test\n",
    "\n",
    "tot_bads=1.0*sum(b)\n",
    "tot_goods=1.0*(len(b)-tot_bads)\n",
    "elements_df = pd.DataFrame({'probability': a,'gbi': b})\n",
    "pivot_elements_df = pd.pivot_table(elements_df, values='gbi', index=['probability'], aggfunc=[sum,len]).fillna(0)\n",
    "max_ks = perc_goods = perc_bads = cum_perc_bads = cum_perc_goods = 0\n",
    "cum_perc_bads_list = [0.0]\n",
    "cum_perc_goods_list = [0.0]\n",
    "cum_cp_minus = [0.0]\n",
    "cum_cp_plus = [0.0]\n",
    "\n",
    "for i in range(len(pivot_elements_df)):\n",
    "    perc_goods =  ((pivot_elements_df['len'].iloc[i]['gbi'] - pivot_elements_df['sum'].iloc[i]['gbi']) / tot_goods)\n",
    "    perc_bads = float(pivot_elements_df['sum']['gbi'].iloc[i]/ tot_bads)\n",
    "    cum_perc_goods += perc_goods   \n",
    "    cum_perc_bads += perc_bads\n",
    "\n",
    "    \n",
    "    cum_perc_bads_list.append(cum_perc_bads)\n",
    "    cum_perc_goods_list.append(cum_perc_goods)\n",
    "    cum_diff = cum_perc_bads-cum_perc_goods\n",
    "\n",
    "    cum_cp_minus.append(0.0)    \n",
    "    cum_cp_minus[-1] = cum_perc_bads_list[-1] - cum_perc_bads_list[-2]\n",
    "\n",
    "    cum_cp_plus.append(0.0)\n",
    "    cum_cp_plus[-1] = cum_perc_goods_list[-1] + cum_perc_goods_list[-2]\n",
    "    \n",
    "    \n",
    "    if abs(cum_diff) > max_ks:\n",
    "        max_ks = abs(cum_diff)\n",
    "\n",
    "print('KS=',max_ks)"
   ]
  },
  {
   "cell_type": "code",
   "execution_count": 48,
   "metadata": {},
   "outputs": [
    {
     "name": "stdout",
     "output_type": "stream",
     "text": [
      "GINI= 0.9822930040232289\n"
     ]
    }
   ],
   "source": [
    "z_score = 0\n",
    "for i in range(len(cum_cp_plus)):\n",
    "    try:\n",
    "        z_score +=  cum_cp_minus[i] * cum_cp_plus[i]\n",
    "    except:\n",
    "        pass\n",
    "print('GINI=',1- z_score/100.0)"
   ]
  }
 ],
 "metadata": {
  "kernelspec": {
   "display_name": "Python 3",
   "language": "python",
   "name": "python3"
  },
  "language_info": {
   "codemirror_mode": {
    "name": "ipython",
    "version": 3
   },
   "file_extension": ".py",
   "mimetype": "text/x-python",
   "name": "python",
   "nbconvert_exporter": "python",
   "pygments_lexer": "ipython3",
   "version": "3.6.6"
  }
 },
 "nbformat": 4,
 "nbformat_minor": 1
}
